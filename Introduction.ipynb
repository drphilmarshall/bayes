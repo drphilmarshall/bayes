{
 "metadata": {
  "name": "",
  "signature": "sha256:24785d68bd4385ac5ce58abe604082a05b36b56a407052f4487e36519ee8c02d"
 },
 "nbformat": 3,
 "nbformat_minor": 0,
 "worksheets": [
  {
   "cells": [
    {
     "cell_type": "code",
     "collapsed": false,
     "input": [
      "import numpy as np, string\n",
      "# from bayes import probability as pr, variable, generator"
     ],
     "language": "python",
     "metadata": {},
     "outputs": [],
     "prompt_number": 112
    },
    {
     "cell_type": "code",
     "collapsed": false,
     "input": [
      "class variable(object):\n",
      "    \n",
      "    def __init__(self,names):\n",
      "        self.names = np.atleast_1d(names)\n",
      "        self.Ndim = len(self.names)\n",
      "        self.values = np.zeros(self.Ndim,)\n",
      "        return\n",
      "    \n",
      "    def __str__(self):\n",
      "        return string.join(self.names,',')\n",
      "    \n",
      "    def histogram(self):\n",
      "        print \"Histograms coming soon!\"\n",
      "        return"
     ],
     "language": "python",
     "metadata": {},
     "outputs": [],
     "prompt_number": 149
    },
    {
     "cell_type": "code",
     "collapsed": false,
     "input": [
      "class probability(object):\n",
      "    \n",
      "    def __init__(self,of=None,given=None,assumptions=None):\n",
      "\n",
      "        # We must have defined our dependent and independent variables,\n",
      "        # and one cannot do inference without making assumptions:\n",
      "        assert assumptions is not None\n",
      "        assert of is not None\n",
      "        assert given is not None\n",
      "        \n",
      "        self.assumptions = assumptions  # stored as a dictionary\n",
      "        self.A = of                     # a list of variables\n",
      "        self.B = given                  # another list of variables\n",
      "        \n",
      "        return\n",
      "    \n",
      "    def __str__(self):\n",
      "        return \"$Pr({A}|{B})$\".format(A=str(self.A), B=str(self.B))\n",
      "        \n",
      "    def draw(self,N):\n",
      "        '''Draw N sample values of A, given B and our assumptions.'''\n",
      "        self.samples = generator(N,self.assumptions,self.B)\n",
      "        return"
     ],
     "language": "python",
     "metadata": {},
     "outputs": [],
     "prompt_number": 137
    },
    {
     "cell_type": "code",
     "collapsed": false,
     "input": [
      "def generator(N,model,parameters):\n",
      "    print \"Sampling coming soon!\"\n",
      "    return None"
     ],
     "language": "python",
     "metadata": {},
     "outputs": [],
     "prompt_number": 150
    },
    {
     "cell_type": "markdown",
     "metadata": {},
     "source": [
      "# Introduction to Bayesian Inference"
     ]
    },
    {
     "cell_type": "markdown",
     "metadata": {},
     "source": [
      "Let's take some data, $x$. What does this mean? It means we are going to acquire an array of numbers, that we assume contain some information about the thing we are trying to measure. These numbers are values of a particular \"variable\". Examples of variables include: galaxy magnitudes in a catalog, the pixel values of an image, estimates of my height, and so on."
     ]
    },
    {
     "cell_type": "code",
     "collapsed": false,
     "input": [
      "data = variable('m')\n",
      "data.values = 24.52"
     ],
     "language": "python",
     "metadata": {},
     "outputs": [],
     "prompt_number": 151
    },
    {
     "cell_type": "markdown",
     "metadata": {},
     "source": [
      "We call these things variables because we realize that they do not represent Truth. The SDSS catalog might tell you that the magnitude of a particular galaxy is m = 24.52, but that doesn't mean that you should believe it! The \"true\" magnitude of that galaxy is *uncertain*: we don't know what it is, exactly. \n",
      "\n",
      "How do we cope with this uncertainty?\n",
      "\n",
      "The answer offered by Bayesian statistics is that we must quantify our degree of belief using *probability distributions* or probability density functions, or PDFs. In the example above we would suppose that the value m = 24.52 is a *sample* that has been drawn from a PDF for the variable m, and that this PDF somehow captures the difference between this value of m that we have been given (and every other value of m that we could have been given), and the true magnitude of the galaxy, mu.\n",
      "\n",
      "In order to infer mu, we'll have to *assume* a particular functional form for this probability distribution, and that PDF will depend on some *parameters*. In the simplest case, there will be two parameters involved. The first one will be mu, the true magnitude that we are trying to infer. The other will quantify our uncertainty about mu, given our assumed PDF let's call it \"sigma\", and make it be the width parameter of a Gaussian distribution."
     ]
    },
    {
     "cell_type": "code",
     "collapsed": false,
     "input": [
      "parameters = variable(['mu','sigma'])\n",
      "I = {'functional_form':'Gaussian'}\n",
      "pdf = probability(of=data,given=parameters,assumptions=I)\n",
      "print pdf"
     ],
     "language": "python",
     "metadata": {},
     "outputs": [
      {
       "output_type": "stream",
       "stream": "stdout",
       "text": [
        "$Pr(m|mu,sigma)$\n"
       ]
      }
     ],
     "prompt_number": 152
    },
    {
     "cell_type": "markdown",
     "metadata": {},
     "source": [
      "So, let's imagine for a moment that we are lucky enough to be given not one SDSS catalog, but 100! And that each catalog corresponds to a separate, independent set of measurements, perhaps taken on successive nights (but with an otherwise identical telescope). Under these circumstances it makes sense to imagine that our 100 resulting values of m really were drawn from our assumed *sampling distribution*."
     ]
    },
    {
     "cell_type": "code",
     "collapsed": false,
     "input": [
      "pdf.draw(100)\n",
      "data.values = pdf.samples\n",
      "# data.visualize()\n",
      "data.histogram()"
     ],
     "language": "python",
     "metadata": {},
     "outputs": [
      {
       "output_type": "stream",
       "stream": "stdout",
       "text": [
        "Sampling coming soon!\n",
        "Histograms coming soon!\n"
       ]
      }
     ],
     "prompt_number": 153
    },
    {
     "cell_type": "code",
     "collapsed": false,
     "input": [
      "# prior = probability(of=pars)\n",
      "# print prior"
     ],
     "language": "python",
     "metadata": {},
     "outputs": [],
     "prompt_number": 145
    }
   ],
   "metadata": {}
  }
 ]
}