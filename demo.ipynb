{
 "metadata": {
  "name": "",
  "signature": "sha256:a30e2edcadd0982d7ff4be5a249d7067de8214e48451f70b14f0ba5e1cf20684"
 },
 "nbformat": 3,
 "nbformat_minor": 0,
 "worksheets": [
  {
   "cells": [
    {
     "cell_type": "code",
     "collapsed": false,
     "input": [
      "import numpy as np"
     ],
     "language": "python",
     "metadata": {},
     "outputs": [],
     "prompt_number": 6
    },
    {
     "cell_type": "code",
     "collapsed": false,
     "input": [
      "# from bayes import probability as pr, variable\n",
      "\n",
      "class probability(object):\n",
      "    \n",
      "    def __init__(self,of=None,given=None):\n",
      "        self.A = of\n",
      "        self.B = given\n",
      "        return\n",
      "    \n",
      "    def __str__(self):\n",
      "        if self.B is not None: \n",
      "            return \"$Pr({A}|{B})$\".format(A=self.A.name, B=self.B.name)\n",
      "        else:\n",
      "            return \"$Pr({A})$\".format(A=self.A.name)"
     ],
     "language": "python",
     "metadata": {},
     "outputs": [],
     "prompt_number": 48
    },
    {
     "cell_type": "code",
     "collapsed": false,
     "input": [
      "class variable(object):\n",
      "    \n",
      "    def __init__(self,name,value):\n",
      "        self.name = name\n",
      "        self.value = value\n",
      "        return\n",
      "    \n",
      "    def __str__(self):\n",
      "        return self.name\n",
      "    \n",
      "    def histogram(self):\n",
      "        print \"Histograms coming soon!\"\n",
      "        pass"
     ],
     "language": "python",
     "metadata": {},
     "outputs": [],
     "prompt_number": 58
    },
    {
     "cell_type": "code",
     "collapsed": false,
     "input": [
      "data = variable('x',np.array([2.0,3.0,1.0]))"
     ],
     "language": "python",
     "metadata": {},
     "outputs": [],
     "prompt_number": 59
    },
    {
     "cell_type": "code",
     "collapsed": false,
     "input": [
      "pars = variable('theta',None)"
     ],
     "language": "python",
     "metadata": {},
     "outputs": [],
     "prompt_number": 60
    },
    {
     "cell_type": "code",
     "collapsed": false,
     "input": [
      "prior = probability(of=pars)"
     ],
     "language": "python",
     "metadata": {},
     "outputs": [],
     "prompt_number": 61
    },
    {
     "cell_type": "code",
     "collapsed": false,
     "input": [
      "sampling_distribution = probability(of=data,given=pars)"
     ],
     "language": "python",
     "metadata": {},
     "outputs": [],
     "prompt_number": 62
    },
    {
     "cell_type": "code",
     "collapsed": false,
     "input": [
      "print prior, sampling_distribution"
     ],
     "language": "python",
     "metadata": {},
     "outputs": [
      {
       "output_type": "stream",
       "stream": "stdout",
       "text": [
        "$Pr(theta)$ $Pr(x|theta)$\n"
       ]
      }
     ],
     "prompt_number": 64
    },
    {
     "cell_type": "code",
     "collapsed": false,
     "input": [
      "data.histogram()"
     ],
     "language": "python",
     "metadata": {},
     "outputs": [
      {
       "output_type": "stream",
       "stream": "stdout",
       "text": [
        "Histograms coming soon!\n"
       ]
      }
     ],
     "prompt_number": 65
    },
    {
     "cell_type": "code",
     "collapsed": false,
     "input": [],
     "language": "python",
     "metadata": {},
     "outputs": [],
     "prompt_number": 63
    },
    {
     "cell_type": "code",
     "collapsed": false,
     "input": [],
     "language": "python",
     "metadata": {},
     "outputs": []
    }
   ],
   "metadata": {}
  }
 ]
}